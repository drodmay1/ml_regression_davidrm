{
 "cells": [
  {
   "cell_type": "markdown",
   "metadata": {},
   "source": [
    "# Predicting Medical Insurance Charges with Regression\n",
    "\n",
    "**Name**: David Rodriguez-Mayorquin \n",
    "**Date**: March 26, 2025. \n",
    "\n",
    "## Introduction\n",
    "\n",
    "Intro\n",
    "\n",
    "---\n",
    "\n",
    "## 1. Import Libraries\n"
   ]
  }
 ],
 "metadata": {
  "language_info": {
   "name": "python"
  }
 },
 "nbformat": 4,
 "nbformat_minor": 2
}
